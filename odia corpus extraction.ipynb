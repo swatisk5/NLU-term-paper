{
 "cells": [
  {
   "cell_type": "code",
   "execution_count": 6,
   "id": "e67b5023",
   "metadata": {},
   "outputs": [],
   "source": [
    "# Function to extract Odia sentence from a string\n",
    "def extract_odia_sentence(text):\n",
    "    # Split the text by '||' to separate English and Odia sentences\n",
    "    parts = text.split('||')\n",
    "    \n",
    "    # If there's an Odia sentence, return it\n",
    "    if len(parts) > 1:\n",
    "        return parts[1].strip()\n",
    "    else:\n",
    "        return None\n",
    "\n",
    "# Function to read sentences from a file, extract Odia sentences, and save them to another file\n",
    "def extract_and_save_odia_sentences(input_file_path, output_file_path):\n",
    "    with open(input_file_path, 'r', encoding='utf-8') as input_file:\n",
    "        with open(output_file_path, 'w', encoding='utf-8') as output_file:\n",
    "            sentences = input_file.readlines()\n",
    "            for sentence in sentences:\n",
    "                odia_sentence = extract_odia_sentence(sentence)\n",
    "                if odia_sentence:\n",
    "                    output_file.write(odia_sentence + '\\n')\n",
    "                else:\n",
    "                    output_file.write(\"No Odia sentence found.\\n\")\n",
    "\n",
    "# Example usage\n",
    "input_file_path = 'odia_eng.txt'  # Change this to the path of your input text file\n",
    "output_file_path = 'odia_sentences_text.txt'  # Change this to the desired path of your output text file\n",
    "extract_and_save_odia_sentences(input_file_path, output_file_path)\n"
   ]
  },
  {
   "cell_type": "code",
   "execution_count": null,
   "id": "3d0f7a39",
   "metadata": {},
   "outputs": [],
   "source": []
  }
 ],
 "metadata": {
  "kernelspec": {
   "display_name": "Python 3 (ipykernel)",
   "language": "python",
   "name": "python3"
  },
  "language_info": {
   "codemirror_mode": {
    "name": "ipython",
    "version": 3
   },
   "file_extension": ".py",
   "mimetype": "text/x-python",
   "name": "python",
   "nbconvert_exporter": "python",
   "pygments_lexer": "ipython3",
   "version": "3.11.5"
  }
 },
 "nbformat": 4,
 "nbformat_minor": 5
}
